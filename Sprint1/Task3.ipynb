{
 "cells": [
  {
   "cell_type": "markdown",
   "metadata": {},
   "source": [
    "<h1 style=\"color:DodgerBlue\">Индивидальный проект</h1>"
   ]
  },
  {
   "cell_type": "markdown",
   "metadata": {},
   "source": [
    "<h2 style=\"color:DodgerBlue\">Название проекта:</h2>\n",
    "\n",
    "----\n",
    "\n",
    "Вариант задания 11\n"
   ]
  },
  {
   "cell_type": "markdown",
   "metadata": {},
   "source": [
    "<h2 style=\"color:DodgerBlue\">Описание проекта:</h2>\n",
    "\n",
    "----\n",
    "\n",
    "[ваш текст]\n",
    "\n",
    "#### Дополнительное задание\n",
    "Добавьте к сущестующим классам конструктора классов с использованием гетторов и сетторов и реализуйте взаимодействие объектов между собой"
   ]
  },
  {
   "cell_type": "markdown",
   "metadata": {},
   "source": [
    "<h2 style=\"color:DodgerBlue\">Реализация:</h2>\n",
    "\n",
    "----"
   ]
  },
  {
   "cell_type": "code",
   "execution_count": 1,
   "metadata": {
    "dotnet_interactive": {
     "language": "csharp"
    },
    "polyglot_notebook": {
     "kernelName": "csharp"
    }
   },
   "outputs": [],
   "source": [
    "using System;\n",
    "\n",
    "public class Customer\n",
    "{\n",
    "// Атрибуты\n",
    "public int CustomerId { get; set; }\n",
    "public string Name { get; set; }\n",
    "public string Email { get; set; }\n",
    "\n",
    "// Конструктор\n",
    "public Customer(int customerId, string name, string email)\n",
    "{\n",
    "CustomerId = customerId;\n",
    "Name = name;\n",
    "Email = email;\n",
    "}\n",
    "\n",
    "// Методы\n",
    "public virtual string GetFullName()\n",
    "{\n",
    "return Name;\n",
    "}\n",
    "\n",
    "public virtual void UpdateEmail(string newEmail)\n",
    "{\n",
    "Email = newEmail;\n",
    "Console.WriteLine($\"Email обновлен на: {Email}\");\n",
    "}\n",
    "\n",
    "public virtual void ViewProfile()\n",
    "{\n",
    "Console.WriteLine($\"ID: {CustomerId}, Имя: {Name}, Email: {Email}\");\n",
    "}\n",
    "}\n",
    "\n",
    "public class VipCustomer : Customer\n",
    "{\n",
    "// Дополнительный атрибут\n",
    "public int LoyaltyPoints { get; set; }\n",
    "\n",
    "// Конструктор\n",
    "public VipCustomer(int customerId, string name, string email, int loyaltyPoints)\n",
    ": base(customerId, name, email)\n",
    "{\n",
    "LoyaltyPoints = loyaltyPoints;\n",
    "}\n",
    "\n",
    "// Переопределение метода ViewProfile\n",
    "public override void ViewProfile()\n",
    "{\n",
    "base.ViewProfile();\n",
    "Console.WriteLine($\"Баланс лояльности: {LoyaltyPoints}\");\n",
    "}\n",
    "}\n",
    "\n",
    "public class RegularCustomer : Customer\n",
    "{\n",
    "// Дополнительный атрибут\n",
    "public DateTime RegistrationDate { get; set; }\n",
    "\n",
    "// Конструктор\n",
    "public RegularCustomer(int customerId, string name, string email, DateTime registrationDate)\n",
    ": base(customerId, name, email)\n",
    "{\n",
    "RegistrationDate = registrationDate;\n",
    "}\n",
    "\n",
    "// Переопределение метода UpdateEmail\n",
    "public override void UpdateEmail(string newEmail)\n",
    "{\n",
    "base.UpdateEmail(newEmail);\n",
    "Console.WriteLine($\"Дата последнего обновления электронной почты: {DateTime.Now}\");\n",
    "}\n",
    "}\n",
    "\n",
    "public class GroupCustomer : Customer\n",
    "{\n",
    "// Дополнительный атрибут\n",
    "public string GroupName { get; set; }\n",
    "\n",
    "// Конструктор\n",
    "public GroupCustomer(int customerId, string groupName)\n",
    ": base(customerId, groupName, null) // Email может быть не указан для группового клиента\n",
    "{\n",
    "GroupName = groupName;\n",
    "}\n",
    "\n",
    "// Переопределение метода GetFullName\n",
    "public override string GetFullName()\n",
    "{\n",
    "return GroupName;\n",
    "}\n",
    "}\n",
    "\n",
    "class Program\n",
    "{\n",
    "static void Main(string[] args)\n",
    "{\n",
    "// Создание объектов клиентов\n",
    "Customer regular = new RegularCustomer(1, \"Иван Иванов\", \"ivan@example.com\", DateTime.Now);\n",
    "Customer vip = new VipCustomer(2, \"Петр Петров\", \"petr@example.com\", 100);\n",
    "Customer group = new GroupCustomer(3, \"Группа A\");\n",
    "\n",
    "// Взаимодействие с объектами\n",
    "regular.ViewProfile();\n",
    "vip.ViewProfile();\n",
    "group.ViewProfile();\n",
    "\n",
    "// Обновление электронной почты для обычного клиента\n",
    "regular.UpdateEmail(\"ivan_new@example.com\");\n",
    "\n",
    "// Показать полное имя группового клиента\n",
    "Console.WriteLine($\"Полное имя группового клиента: {group.GetFullName()}\");\n",
    "\n",
    "// Вызов полиморфных методов\n",
    "Customer[] customers = { regular, vip, group };\n",
    "\n",
    "foreach (var customer in customers)\n",
    "{\n",
    "customer.ViewProfile();\n",
    "}\n",
    "}\n",
    "} "
   ]
  },
  {
   "cell_type": "markdown",
   "metadata": {},
   "source": [
    "Описание кода:\n",
    "1. Базовый класс Customer:\n",
    "- Содержит основные атрибуты и методы.\n",
    "- Методы GetFullName, UpdateEmail и ViewProfile определены как виртуальные.\n",
    "\n",
    "2. Производные классы:\n",
    "- VipCustomer: Добавляет атрибут LoyaltyPoints и переопределяет метод ViewProfile.\n",
    "- RegularCustomer: Добавляет атрибут RegistrationDate и переопределяет метод UpdateEmail.\n",
    "- GroupCustomer: Добавляет атрибут GroupName и переопределяет метод GetFullName.\n",
    "\n",
    "3. Класс Program:\n",
    "- Создает объекты различных типов клиентов и демонстрирует их взаимодействие и полиморфизм."
   ]
  }
 ],
 "metadata": {
  "kernelspec": {
   "display_name": ".NET (C#)",
   "language": "C#",
   "name": ".net-csharp"
  },
  "polyglot_notebook": {
   "kernelInfo": {
    "defaultKernelName": "csharp",
    "items": [
     {
      "aliases": [],
      "languageName": "csharp",
      "name": "csharp"
     }
    ]
   }
  }
 },
 "nbformat": 4,
 "nbformat_minor": 2
}
