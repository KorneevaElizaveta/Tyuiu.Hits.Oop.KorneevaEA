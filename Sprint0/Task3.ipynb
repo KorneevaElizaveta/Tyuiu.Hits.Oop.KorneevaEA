{
 "cells": [
  {
   "cell_type": "markdown",
   "metadata": {},
   "source": [
    "<h1 style=\"color:DodgerBlue\">Индивидальный проект</h1>"
   ]
  },
  {
   "cell_type": "markdown",
   "metadata": {},
   "source": [
    "<h2 style=\"color:DodgerBlue\">Название проекта:</h2>\n",
    "\n",
    "----\n",
    "\n",
    "Вариант задания 11\n"
   ]
  },
  {
   "cell_type": "markdown",
   "metadata": {},
   "source": [
    "<h2 style=\"color:DodgerBlue\">Описание проекта:</h2>\n",
    "\n",
    "----\n",
    "\n",
    "Создать базовый класс Customer в C#, который будет представлять информацию о клиентах или покупателях. На основе этого класса разработать 2-3 производных класса, демонстрирующих принципы наследования и полиморфизма. В каждом из классов должны быть реализованы новые атрибуты и методы, а также переопределены некоторые методы базового класса для демонстрации полиморфизма."
   ]
  },
  {
   "cell_type": "markdown",
   "metadata": {},
   "source": [
    "<h2 style=\"color:DodgerBlue\">Реализация:</h2>\n",
    "\n",
    "----"
   ]
  },
  {
   "cell_type": "code",
   "execution_count": 2,
   "metadata": {
    "dotnet_interactive": {
     "language": "csharp"
    },
    "polyglot_notebook": {
     "kernelName": "csharp"
    }
   },
   "outputs": [],
   "source": [
    "public class Customer \n",
    "{\n",
    "    public int CustomerId;  // Атрибуты класса\n",
    "    public string Name;\n",
    "    public string Email;\n",
    "\n",
    "    public Customer (int customerId, string name, string email) // Конструктор\n",
    "    {\n",
    "        CustomerId = customerId;\n",
    "        Name = name;\n",
    "        Email = email;\n",
    "    }\n",
    "\n",
    "    public virtual void GetFullName()\n",
    "    {\n",
    "        Console.WriteLine(Name);\n",
    "    }\n",
    "\n",
    "    public virtual void UpdateEmail(string newEmail)\n",
    "    {\n",
    "        Email = newEmail;\n",
    "    }\n",
    "\n",
    "    public virtual void ViewProfile()\n",
    "    {\n",
    "        Console.WriteLine($\"ID клиента: {CustomerId}; имя: {Name}; электронная почта: {Email}\");\n",
    "    }\n",
    "}\n",
    "\n",
    "\n",
    "public class VipCustomer : Customer\n",
    "{\n",
    "    public int LoyaltyPoint;\n",
    "\n",
    "    public VipCustomer (int customerId, string name, string email, int loyaltyPoint) \n",
    "    : base(customerId, name, email)\n",
    "    {\n",
    "        LoyaltyPoint = loyaltyPoint;\n",
    "    }\n",
    "\n",
    "    public override void ViewProfile()\n",
    "    {\n",
    "        base.ViewProfile();\n",
    "        Console.WriteLine($\"баланс лояльности: {LoyaltyPoint}\");\n",
    "    }\n",
    "}\n",
    "\n",
    "public class RegularCustomer : Customer \n",
    "{\n",
    "    public string RegistrationDate;\n",
    "\n",
    "    public RegularCustomer (int customerId, string name, string email, string registrationDate) \n",
    "    : base(customerId, name, email)\n",
    "    {\n",
    "        RegistrationDate = registrationDate;\n",
    "    }\n",
    "\n",
    "    public override void UpdateEmail(string newEmail)\n",
    "    {\n",
    "        Email = newEmail;\n",
    "        UpdateRegistrationDate();\n",
    "    }\n",
    "\n",
    "    private void UpdateRegistrationDate()\n",
    "    {\n",
    "        RegistrationDate = DateTime.Today.ToString();\n",
    "    }\n",
    "}\n",
    "\n",
    "\n",
    "public class GroupCustomer : Customer \n",
    "{\n",
    "    public string GroupName;\n",
    "    \n",
    "    public GroupCustomer (int customerId, string name, string email, string groupName) \n",
    "    : base(customerId, name, email)\n",
    "    {\n",
    "        GroupName = groupName;\n",
    "    }\n",
    "\n",
    "    public override void GetFullName()\n",
    "    {\n",
    "        Console.WriteLine(GroupName);\n",
    "    }\n",
    "}\n",
    "\n",
    "VipCustomer myVipCustomer = new VipCustomer(1, \"Liza\", \"kdjfnvkajsdnv@gmail.com\", 25);\n",
    "RegularCustomer myRegCustomer = new RegularCustomer(2, \"Roman\", \"asckjakcfa@gmail.com\", \"2014.12.05 0:00:00\");\n",
    "GroupCustomer myGrCustomer = new GroupCustomer(3, \"Andrey\", \"ajncfakijdenfiaj@gmail.com\", \"InvestmentFundCorporation\");\n",
    "\n",
    "\n",
    "myVipCustomer.ViewProfile();  // 1ый клиент\n",
    "Console.WriteLine();\n",
    "\n",
    "myRegCustomer.ViewProfile(); // 2ой клиент\n",
    "Console.WriteLine(myRegCustomer.RegistrationDate); // дата регистарции 2го клиента\n",
    "myRegCustomer.UpdateEmail(\"sdxkvlsmbps@gmail.com\"); // обновление почты\n",
    "myRegCustomer.ViewProfile(); // профиль с обновленной почтой\n",
    "Console.WriteLine(myRegCustomer.RegistrationDate); // дата изменилась в соответствии с последним измененим почты\n",
    "Console.WriteLine();\n",
    "\n",
    "myGrCustomer.ViewProfile(); // 3ий клиент\n",
    "myGrCustomer.GetFullName(); // По ТЗ метод GetFullName вместо имени клиента возвращет название группы"
   ]
  }
 ],
 "metadata": {
  "kernelspec": {
   "display_name": ".NET (C#)",
   "language": "C#",
   "name": ".net-csharp"
  },
  "polyglot_notebook": {
   "kernelInfo": {
    "defaultKernelName": "csharp",
    "items": [
     {
      "aliases": [],
      "languageName": "csharp",
      "name": "csharp"
     }
    ]
   }
  }
 },
 "nbformat": 4,
 "nbformat_minor": 2
}
