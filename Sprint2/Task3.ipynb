{
 "cells": [
  {
   "cell_type": "markdown",
   "metadata": {},
   "source": [
    "<h1 style=\"color:DodgerBlue\">Индивидальный проект</h1>"
   ]
  },
  {
   "cell_type": "markdown",
   "metadata": {},
   "source": [
    "<h2 style=\"color:DodgerBlue\">Название проекта:</h2>\n",
    "\n",
    "----\n",
    "\n",
    "### Вариант задания \n",
    "Вариант 11"
   ]
  },
  {
   "cell_type": "markdown",
   "metadata": {},
   "source": [
    "<h2 style=\"color:DodgerBlue\">Описание проекта:</h2>\n",
    "\n",
    "----\n",
    "\n",
    "Создать базовый класс Customer в C#, который будет представлять информацию о\n",
    "клиентах или покупателях. На основе этого класса разработать 2-3 производных\n",
    "класса, демонстрирующих принципы наследования и полиморфизма. В каждом из\n",
    "классов должны быть реализованы новые атрибуты и методы, а также\n",
    "переопределены некоторые методы базового класса для демонстрации\n",
    "полиморфизма.\n",
    "\n",
    "#### Дополнительное задание\n",
    "Добавьте к сущестующим классам (базовыму и производным 3-4 атрибута и метода) и реализуйте простое, сложное и множественное наследование"
   ]
  },
  {
   "cell_type": "markdown",
   "metadata": {},
   "source": [
    "<h2 style=\"color:DodgerBlue\">Реализация:</h2>\n",
    "\n",
    "----"
   ]
  },
  {
   "cell_type": "markdown",
   "metadata": {},
   "source": [
    "Пример реализации:"
   ]
  },
  {
   "cell_type": "code",
   "execution_count": 1,
   "metadata": {
    "dotnet_interactive": {
     "language": "csharp"
    },
    "polyglot_notebook": {
     "kernelName": "csharp"
    }
   },
   "outputs": [],
   "source": [
    "public class Customer\n",
    "{\n",
    "    public string Name { get; set; }\n",
    "    public string Email { get; set; }\n",
    "    public int CustomerID { get; set; }\n",
    "    public string PhoneNumber { get; set; }\n",
    "    public DateTime RegistrationDate { get; set; }\n",
    "\n",
    "    public Customer(string name, string email, int customerId, string phoneNumber, DateTime registrationDate)\n",
    "    {\n",
    "        Name = name;\n",
    "        Email = email;\n",
    "        CustomerID = customerId;\n",
    "        PhoneNumber = phoneNumber;\n",
    "        RegistrationDate = registrationDate;\n",
    "    }\n",
    "\n",
    "    public virtual string GetCustomerInfo()\n",
    "    {\n",
    "        return $\"Customer ID: {CustomerID}, Name: {Name}, Email: {Email}, Phone: {PhoneNumber}, Registered on: {RegistrationDate.ToShortDateString()}\";\n",
    "    }\n",
    "\n",
    "    public virtual double CalculateDiscount()\n",
    "    {\n",
    "        return 0.0;\n",
    "    }\n",
    "\n",
    "    public virtual void UpdateContactInfo(string newEmail, string newPhoneNumber)\n",
    "    {\n",
    "        Email = newEmail;\n",
    "        PhoneNumber = newPhoneNumber;\n",
    "    }\n",
    "}\n",
    "\n",
    "\n",
    "public class RegularCustomer : Customer\n",
    "{\n",
    "    public int LoyaltyPoints { get; set; }\n",
    "\n",
    "    public RegularCustomer(string name, string email, int customerId, string phoneNumber, DateTime registrationDate, int loyaltyPoints)\n",
    "        : base(name, email, customerId, phoneNumber, registrationDate)\n",
    "    {\n",
    "        LoyaltyPoints = loyaltyPoints;\n",
    "    }\n",
    "\n",
    "    public override string GetCustomerInfo()\n",
    "    {\n",
    "        return base.GetCustomerInfo() + $\", Loyalty Points: {LoyaltyPoints}\";\n",
    "    }\n",
    "\n",
    "    public override double CalculateDiscount()\n",
    "    {\n",
    "        return LoyaltyPoints * 0.01;\n",
    "    }\n",
    "\n",
    "    public void RedeemLoyaltyPoints(int points)\n",
    "    {\n",
    "        if (points <= LoyaltyPoints)\n",
    "            LoyaltyPoints -= points;\n",
    "        else\n",
    "            throw new InvalidOperationException(\"Not enough loyalty points.\");\n",
    "    }\n",
    "}\n",
    "\n",
    "\n",
    "public class PremiumCustomer : Customer\n",
    "{\n",
    "    public double MembershipFee { get; set; }\n",
    "\n",
    "    public PremiumCustomer(string name, string email, int customerId, string phoneNumber, DateTime registrationDate, double membershipFee)\n",
    "        : base(name, email, customerId, phoneNumber, registrationDate)\n",
    "    {\n",
    "        MembershipFee = membershipFee;\n",
    "    }\n",
    "\n",
    "    public override string GetCustomerInfo()\n",
    "    {\n",
    "        return base.GetCustomerInfo() + $\", Membership Fee: {MembershipFee}\";\n",
    "    }\n",
    "\n",
    "    public override double CalculateDiscount()\n",
    "    {\n",
    "        return 0.1;\n",
    "    }\n",
    "\n",
    "    public void UpgradeMembership(double additionalFee)\n",
    "    {\n",
    "        MembershipFee += additionalFee;\n",
    "    }\n",
    "}\n",
    "\n",
    "\n",
    "class Program\n",
    "{\n",
    "    static void Main(string[] args)\n",
    "    {\n",
    "        Customer regular = new RegularCustomer(\"Alice\", \"alice@example.com\", 1, \"123-456-7890\", DateTime.Now, 150);\n",
    "        Customer premium = new PremiumCustomer(\"Bob\", \"bob@example.com\", 2, \"098-765-4321\", DateTime.Now, 99.99);\n",
    "\n",
    "        Console.WriteLine(regular.GetCustomerInfo());\n",
    "        Console.WriteLine($\"Discount: {regular.CalculateDiscount()}\");\n",
    "\n",
    "        Console.WriteLine(premium.GetCustomerInfo());\n",
    "        Console.WriteLine($\"Discount: {premium.CalculateDiscount()}\");\n",
    "        \n",
    "        // Обновление контактной информации\n",
    "        regular.UpdateContactInfo(\"alice_new@example.com\", \"111-222-3333\");\n",
    "        Console.WriteLine(regular.GetCustomerInfo());\n",
    "        \n",
    "        // Применение лояльных очков\n",
    "        ((RegularCustomer)regular).RedeemLoyaltyPoints(50);\n",
    "        Console.WriteLine(regular.GetCustomerInfo());\n",
    "        \n",
    "        // Обновление членства\n",
    "        ((PremiumCustomer)premium).UpgradeMembership(20);\n",
    "        Console.WriteLine(premium.GetCustomerInfo());\n",
    "    }\n",
    "}\n",
    "\n"
   ]
  }
 ],
 "metadata": {
  "kernelspec": {
   "display_name": ".NET (C#)",
   "language": "C#",
   "name": ".net-csharp"
  },
  "polyglot_notebook": {
   "kernelInfo": {
    "defaultKernelName": "csharp",
    "items": [
     {
      "aliases": [],
      "languageName": "csharp",
      "name": "csharp"
     }
    ]
   }
  }
 },
 "nbformat": 4,
 "nbformat_minor": 2
}
